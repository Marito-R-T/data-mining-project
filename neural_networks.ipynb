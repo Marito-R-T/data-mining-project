{
 "cells": [
  {
   "cell_type": "markdown",
   "metadata": {},
   "source": [
    "# Neural Networks\n",
    "\n",
    "## Importar librerías"
   ]
  },
  {
   "cell_type": "code",
   "execution_count": 31,
   "metadata": {},
   "outputs": [],
   "source": [
    "import numpy as np\n",
    "import pandas as pd\n",
    "import pyreadstat\n",
    "import tensorflow as tf\n",
    "from tensorflow.keras.models import Sequential\n",
    "from tensorflow.keras.layers import Dense"
   ]
  },
  {
   "cell_type": "markdown",
   "metadata": {},
   "source": [
    "## Cargar Datos"
   ]
  },
  {
   "cell_type": "code",
   "execution_count": 32,
   "metadata": {},
   "outputs": [],
   "source": [
    "df, meta = pyreadstat.read_sav(\"data.sav\")"
   ]
  },
  {
   "cell_type": "markdown",
   "metadata": {},
   "source": [
    "## Inyectar aleatoriedad"
   ]
  },
  {
   "cell_type": "code",
   "execution_count": 33,
   "metadata": {},
   "outputs": [],
   "source": [
    "data = df.sample(frac = 1, random_state = 42).reset_index(drop=True)"
   ]
  },
  {
   "cell_type": "markdown",
   "metadata": {},
   "source": [
    "## Visualizar data"
   ]
  },
  {
   "cell_type": "code",
   "execution_count": 34,
   "metadata": {},
   "outputs": [
    {
     "data": {
      "text/html": [
       "<div>\n",
       "<style scoped>\n",
       "    .dataframe tbody tr th:only-of-type {\n",
       "        vertical-align: middle;\n",
       "    }\n",
       "\n",
       "    .dataframe tbody tr th {\n",
       "        vertical-align: top;\n",
       "    }\n",
       "\n",
       "    .dataframe thead th {\n",
       "        text-align: right;\n",
       "    }\n",
       "</style>\n",
       "<table border=\"1\" class=\"dataframe\">\n",
       "  <thead>\n",
       "    <tr style=\"text-align: right;\">\n",
       "      <th></th>\n",
       "      <th>Año</th>\n",
       "      <th>CodEstablecimiento</th>\n",
       "      <th>Departamento_F</th>\n",
       "      <th>Depto_mupio</th>\n",
       "      <th>Sector</th>\n",
       "      <th>Área</th>\n",
       "      <th>Sexo</th>\n",
       "      <th>Grado</th>\n",
       "      <th>Nivel</th>\n",
       "      <th>Pueblo_Per</th>\n",
       "      <th>Plan_Est</th>\n",
       "      <th>Jornada_Est</th>\n",
       "      <th>Resultado_F</th>\n",
       "      <th>Repitente</th>\n",
       "      <th>Graduando</th>\n",
       "    </tr>\n",
       "  </thead>\n",
       "  <tbody>\n",
       "    <tr>\n",
       "      <th>0</th>\n",
       "      <td>2023.0</td>\n",
       "      <td>16-13-0066-43</td>\n",
       "      <td>16.0</td>\n",
       "      <td>1613</td>\n",
       "      <td>1.0</td>\n",
       "      <td>2.0</td>\n",
       "      <td>2.0</td>\n",
       "      <td>1.0</td>\n",
       "      <td>2.0</td>\n",
       "      <td>1.0</td>\n",
       "      <td>1.0</td>\n",
       "      <td>1.0</td>\n",
       "      <td>1.0</td>\n",
       "      <td>1.0</td>\n",
       "      <td>2.0</td>\n",
       "    </tr>\n",
       "    <tr>\n",
       "      <th>1</th>\n",
       "      <td>2023.0</td>\n",
       "      <td>16-14-0024-43</td>\n",
       "      <td>16.0</td>\n",
       "      <td>1614</td>\n",
       "      <td>1.0</td>\n",
       "      <td>2.0</td>\n",
       "      <td>2.0</td>\n",
       "      <td>4.0</td>\n",
       "      <td>2.0</td>\n",
       "      <td>1.0</td>\n",
       "      <td>1.0</td>\n",
       "      <td>1.0</td>\n",
       "      <td>1.0</td>\n",
       "      <td>2.0</td>\n",
       "      <td>2.0</td>\n",
       "    </tr>\n",
       "    <tr>\n",
       "      <th>2</th>\n",
       "      <td>2023.0</td>\n",
       "      <td>11-01-0456-45</td>\n",
       "      <td>11.0</td>\n",
       "      <td>1101</td>\n",
       "      <td>2.0</td>\n",
       "      <td>1.0</td>\n",
       "      <td>2.0</td>\n",
       "      <td>2.0</td>\n",
       "      <td>3.0</td>\n",
       "      <td>5.0</td>\n",
       "      <td>2.0</td>\n",
       "      <td>1.0</td>\n",
       "      <td>2.0</td>\n",
       "      <td>2.0</td>\n",
       "      <td>9.0</td>\n",
       "    </tr>\n",
       "    <tr>\n",
       "      <th>3</th>\n",
       "      <td>2023.0</td>\n",
       "      <td>13-02-0110-43</td>\n",
       "      <td>13.0</td>\n",
       "      <td>1302</td>\n",
       "      <td>1.0</td>\n",
       "      <td>2.0</td>\n",
       "      <td>1.0</td>\n",
       "      <td>2.0</td>\n",
       "      <td>2.0</td>\n",
       "      <td>5.0</td>\n",
       "      <td>1.0</td>\n",
       "      <td>1.0</td>\n",
       "      <td>5.0</td>\n",
       "      <td>2.0</td>\n",
       "      <td>2.0</td>\n",
       "    </tr>\n",
       "    <tr>\n",
       "      <th>4</th>\n",
       "      <td>2023.0</td>\n",
       "      <td>18-03-0179-41</td>\n",
       "      <td>18.0</td>\n",
       "      <td>1803</td>\n",
       "      <td>3.0</td>\n",
       "      <td>2.0</td>\n",
       "      <td>2.0</td>\n",
       "      <td>4.0</td>\n",
       "      <td>1.0</td>\n",
       "      <td>1.0</td>\n",
       "      <td>1.0</td>\n",
       "      <td>1.0</td>\n",
       "      <td>1.0</td>\n",
       "      <td>2.0</td>\n",
       "      <td>2.0</td>\n",
       "    </tr>\n",
       "    <tr>\n",
       "      <th>...</th>\n",
       "      <td>...</td>\n",
       "      <td>...</td>\n",
       "      <td>...</td>\n",
       "      <td>...</td>\n",
       "      <td>...</td>\n",
       "      <td>...</td>\n",
       "      <td>...</td>\n",
       "      <td>...</td>\n",
       "      <td>...</td>\n",
       "      <td>...</td>\n",
       "      <td>...</td>\n",
       "      <td>...</td>\n",
       "      <td>...</td>\n",
       "      <td>...</td>\n",
       "      <td>...</td>\n",
       "    </tr>\n",
       "    <tr>\n",
       "      <th>4230554</th>\n",
       "      <td>2023.0</td>\n",
       "      <td>01-02-0031-42</td>\n",
       "      <td>1.0</td>\n",
       "      <td>0102</td>\n",
       "      <td>2.0</td>\n",
       "      <td>2.0</td>\n",
       "      <td>1.0</td>\n",
       "      <td>5.0</td>\n",
       "      <td>1.0</td>\n",
       "      <td>5.0</td>\n",
       "      <td>1.0</td>\n",
       "      <td>1.0</td>\n",
       "      <td>1.0</td>\n",
       "      <td>2.0</td>\n",
       "      <td>2.0</td>\n",
       "    </tr>\n",
       "    <tr>\n",
       "      <th>4230555</th>\n",
       "      <td>2023.0</td>\n",
       "      <td>09-04-0019-45</td>\n",
       "      <td>9.0</td>\n",
       "      <td>0904</td>\n",
       "      <td>1.0</td>\n",
       "      <td>2.0</td>\n",
       "      <td>1.0</td>\n",
       "      <td>1.0</td>\n",
       "      <td>3.0</td>\n",
       "      <td>5.0</td>\n",
       "      <td>1.0</td>\n",
       "      <td>2.0</td>\n",
       "      <td>1.0</td>\n",
       "      <td>2.0</td>\n",
       "      <td>2.0</td>\n",
       "    </tr>\n",
       "    <tr>\n",
       "      <th>4230556</th>\n",
       "      <td>2023.0</td>\n",
       "      <td>11-02-0087-43</td>\n",
       "      <td>11.0</td>\n",
       "      <td>1102</td>\n",
       "      <td>1.0</td>\n",
       "      <td>2.0</td>\n",
       "      <td>2.0</td>\n",
       "      <td>5.0</td>\n",
       "      <td>2.0</td>\n",
       "      <td>5.0</td>\n",
       "      <td>1.0</td>\n",
       "      <td>1.0</td>\n",
       "      <td>1.0</td>\n",
       "      <td>1.0</td>\n",
       "      <td>2.0</td>\n",
       "    </tr>\n",
       "    <tr>\n",
       "      <th>4230557</th>\n",
       "      <td>2023.0</td>\n",
       "      <td>09-10-0010-43</td>\n",
       "      <td>9.0</td>\n",
       "      <td>0910</td>\n",
       "      <td>2.0</td>\n",
       "      <td>1.0</td>\n",
       "      <td>2.0</td>\n",
       "      <td>3.0</td>\n",
       "      <td>2.0</td>\n",
       "      <td>5.0</td>\n",
       "      <td>1.0</td>\n",
       "      <td>1.0</td>\n",
       "      <td>1.0</td>\n",
       "      <td>2.0</td>\n",
       "      <td>2.0</td>\n",
       "    </tr>\n",
       "    <tr>\n",
       "      <th>4230558</th>\n",
       "      <td>2023.0</td>\n",
       "      <td>09-01-0106-43</td>\n",
       "      <td>9.0</td>\n",
       "      <td>0901</td>\n",
       "      <td>1.0</td>\n",
       "      <td>2.0</td>\n",
       "      <td>1.0</td>\n",
       "      <td>4.0</td>\n",
       "      <td>2.0</td>\n",
       "      <td>1.0</td>\n",
       "      <td>1.0</td>\n",
       "      <td>1.0</td>\n",
       "      <td>1.0</td>\n",
       "      <td>2.0</td>\n",
       "      <td>2.0</td>\n",
       "    </tr>\n",
       "  </tbody>\n",
       "</table>\n",
       "<p>4230559 rows × 15 columns</p>\n",
       "</div>"
      ],
      "text/plain": [
       "            Año CodEstablecimiento  Departamento_F Depto_mupio  Sector  Área  \\\n",
       "0        2023.0      16-13-0066-43            16.0        1613     1.0   2.0   \n",
       "1        2023.0      16-14-0024-43            16.0        1614     1.0   2.0   \n",
       "2        2023.0      11-01-0456-45            11.0        1101     2.0   1.0   \n",
       "3        2023.0      13-02-0110-43            13.0        1302     1.0   2.0   \n",
       "4        2023.0      18-03-0179-41            18.0        1803     3.0   2.0   \n",
       "...         ...                ...             ...         ...     ...   ...   \n",
       "4230554  2023.0      01-02-0031-42             1.0        0102     2.0   2.0   \n",
       "4230555  2023.0      09-04-0019-45             9.0        0904     1.0   2.0   \n",
       "4230556  2023.0      11-02-0087-43            11.0        1102     1.0   2.0   \n",
       "4230557  2023.0      09-10-0010-43             9.0        0910     2.0   1.0   \n",
       "4230558  2023.0      09-01-0106-43             9.0        0901     1.0   2.0   \n",
       "\n",
       "         Sexo  Grado  Nivel  Pueblo_Per  Plan_Est  Jornada_Est  Resultado_F  \\\n",
       "0         2.0    1.0    2.0         1.0       1.0          1.0          1.0   \n",
       "1         2.0    4.0    2.0         1.0       1.0          1.0          1.0   \n",
       "2         2.0    2.0    3.0         5.0       2.0          1.0          2.0   \n",
       "3         1.0    2.0    2.0         5.0       1.0          1.0          5.0   \n",
       "4         2.0    4.0    1.0         1.0       1.0          1.0          1.0   \n",
       "...       ...    ...    ...         ...       ...          ...          ...   \n",
       "4230554   1.0    5.0    1.0         5.0       1.0          1.0          1.0   \n",
       "4230555   1.0    1.0    3.0         5.0       1.0          2.0          1.0   \n",
       "4230556   2.0    5.0    2.0         5.0       1.0          1.0          1.0   \n",
       "4230557   2.0    3.0    2.0         5.0       1.0          1.0          1.0   \n",
       "4230558   1.0    4.0    2.0         1.0       1.0          1.0          1.0   \n",
       "\n",
       "         Repitente  Graduando  \n",
       "0              1.0        2.0  \n",
       "1              2.0        2.0  \n",
       "2              2.0        9.0  \n",
       "3              2.0        2.0  \n",
       "4              2.0        2.0  \n",
       "...            ...        ...  \n",
       "4230554        2.0        2.0  \n",
       "4230555        2.0        2.0  \n",
       "4230556        1.0        2.0  \n",
       "4230557        2.0        2.0  \n",
       "4230558        2.0        2.0  \n",
       "\n",
       "[4230559 rows x 15 columns]"
      ]
     },
     "execution_count": 34,
     "metadata": {},
     "output_type": "execute_result"
    }
   ],
   "source": [
    "data"
   ]
  },
  {
   "cell_type": "code",
   "execution_count": 35,
   "metadata": {},
   "outputs": [
    {
     "data": {
      "text/plain": [
       "Año                   float64\n",
       "CodEstablecimiento     object\n",
       "Departamento_F        float64\n",
       "Depto_mupio            object\n",
       "Sector                float64\n",
       "Área                  float64\n",
       "Sexo                  float64\n",
       "Grado                 float64\n",
       "Nivel                 float64\n",
       "Pueblo_Per            float64\n",
       "Plan_Est              float64\n",
       "Jornada_Est           float64\n",
       "Resultado_F           float64\n",
       "Repitente             float64\n",
       "Graduando             float64\n",
       "dtype: object"
      ]
     },
     "execution_count": 35,
     "metadata": {},
     "output_type": "execute_result"
    }
   ],
   "source": [
    "data.dtypes"
   ]
  },
  {
   "cell_type": "code",
   "execution_count": 36,
   "metadata": {},
   "outputs": [],
   "source": [
    "df['Depto_mupio'] = df['Depto_mupio'].astype(float)"
   ]
  },
  {
   "cell_type": "code",
   "execution_count": 37,
   "metadata": {},
   "outputs": [],
   "source": [
    "data['Vigente'] = data['Resultado_F'].apply(lambda x: 1 if x == 1 or x == 2 else 0)"
   ]
  },
  {
   "cell_type": "markdown",
   "metadata": {},
   "source": [
    "## Definir variables dependientes e independientes"
   ]
  },
  {
   "cell_type": "code",
   "execution_count": 38,
   "metadata": {},
   "outputs": [],
   "source": [
    "X = data[['Departamento_F','Depto_mupio','Sector','Área','Sexo','Grado','Nivel','Pueblo_Per','Plan_Est','Jornada_Est','Repitente','Graduando']]\n",
    "y = data['Vigente']"
   ]
  },
  {
   "cell_type": "markdown",
   "metadata": {},
   "source": [
    "## Definición de set de entreno y prueba"
   ]
  },
  {
   "cell_type": "code",
   "execution_count": 39,
   "metadata": {},
   "outputs": [],
   "source": [
    "from sklearn.model_selection import train_test_split\n",
    "\n",
    "X_train, X_test, y_train, y_test  = train_test_split(X, y, test_size = 0.2, random_state = 42)"
   ]
  },
  {
   "cell_type": "markdown",
   "metadata": {},
   "source": [
    "## Diseño de la red neuronal"
   ]
  },
  {
   "cell_type": "code",
   "execution_count": 40,
   "metadata": {},
   "outputs": [
    {
     "name": "stderr",
     "output_type": "stream",
     "text": [
      "c:\\pinokio\\bin\\miniconda\\lib\\site-packages\\keras\\src\\layers\\core\\dense.py:87: UserWarning: Do not pass an `input_shape`/`input_dim` argument to a layer. When using Sequential models, prefer using an `Input(shape)` object as the first layer in the model instead.\n",
      "  super().__init__(activity_regularizer=activity_regularizer, **kwargs)\n"
     ]
    }
   ],
   "source": [
    "model = Sequential()\n",
    "model.add(Dense(32, input_dim = 12, activation = 'relu'))\n",
    "model.add(Dense(16, activation='relu'))\n",
    "model.add(Dense(8, activation='relu'))\n",
    "model.add(Dense(2, activation='relu'))\n",
    "model.add(Dense(1, activation='sigmoid'))"
   ]
  },
  {
   "cell_type": "markdown",
   "metadata": {},
   "source": [
    "## Compilación de la red"
   ]
  },
  {
   "cell_type": "code",
   "execution_count": 41,
   "metadata": {},
   "outputs": [],
   "source": [
    "model.compile(loss ='binary_crossentropy', optimizer ='adam', metrics =['accuracy'])"
   ]
  },
  {
   "cell_type": "markdown",
   "metadata": {},
   "source": [
    "## Entreno y testeo"
   ]
  },
  {
   "cell_type": "code",
   "execution_count": 43,
   "metadata": {},
   "outputs": [
    {
     "name": "stdout",
     "output_type": "stream",
     "text": [
      "Epoch 1/20\n",
      "\u001b[1m6769/6769\u001b[0m \u001b[32m━━━━━━━━━━━━━━━━━━━━\u001b[0m\u001b[37m\u001b[0m \u001b[1m8s\u001b[0m 1ms/step - accuracy: 0.8765 - loss: 0.3739 - val_accuracy: 0.8766 - val_loss: 0.3737\n",
      "Epoch 2/20\n",
      "\u001b[1m6769/6769\u001b[0m \u001b[32m━━━━━━━━━━━━━━━━━━━━\u001b[0m\u001b[37m\u001b[0m \u001b[1m8s\u001b[0m 1ms/step - accuracy: 0.8763 - loss: 0.3743 - val_accuracy: 0.8766 - val_loss: 0.3736\n",
      "Epoch 3/20\n",
      "\u001b[1m6769/6769\u001b[0m \u001b[32m━━━━━━━━━━━━━━━━━━━━\u001b[0m\u001b[37m\u001b[0m \u001b[1m8s\u001b[0m 1ms/step - accuracy: 0.8768 - loss: 0.3732 - val_accuracy: 0.8766 - val_loss: 0.3736\n",
      "Epoch 4/20\n",
      "\u001b[1m6769/6769\u001b[0m \u001b[32m━━━━━━━━━━━━━━━━━━━━\u001b[0m\u001b[37m\u001b[0m \u001b[1m8s\u001b[0m 1ms/step - accuracy: 0.8759 - loss: 0.3751 - val_accuracy: 0.8766 - val_loss: 0.3736\n",
      "Epoch 5/20\n",
      "\u001b[1m6769/6769\u001b[0m \u001b[32m━━━━━━━━━━━━━━━━━━━━\u001b[0m\u001b[37m\u001b[0m \u001b[1m8s\u001b[0m 1ms/step - accuracy: 0.8764 - loss: 0.3740 - val_accuracy: 0.8766 - val_loss: 0.3737\n",
      "Epoch 6/20\n",
      "\u001b[1m6769/6769\u001b[0m \u001b[32m━━━━━━━━━━━━━━━━━━━━\u001b[0m\u001b[37m\u001b[0m \u001b[1m8s\u001b[0m 1ms/step - accuracy: 0.8761 - loss: 0.3745 - val_accuracy: 0.8766 - val_loss: 0.3737\n",
      "Epoch 7/20\n",
      "\u001b[1m6769/6769\u001b[0m \u001b[32m━━━━━━━━━━━━━━━━━━━━\u001b[0m\u001b[37m\u001b[0m \u001b[1m9s\u001b[0m 1ms/step - accuracy: 0.8765 - loss: 0.3738 - val_accuracy: 0.8766 - val_loss: 0.3737\n",
      "Epoch 8/20\n",
      "\u001b[1m6769/6769\u001b[0m \u001b[32m━━━━━━━━━━━━━━━━━━━━\u001b[0m\u001b[37m\u001b[0m \u001b[1m8s\u001b[0m 1ms/step - accuracy: 0.8767 - loss: 0.3735 - val_accuracy: 0.8766 - val_loss: 0.3736\n",
      "Epoch 9/20\n",
      "\u001b[1m6769/6769\u001b[0m \u001b[32m━━━━━━━━━━━━━━━━━━━━\u001b[0m\u001b[37m\u001b[0m \u001b[1m8s\u001b[0m 1ms/step - accuracy: 0.8766 - loss: 0.3737 - val_accuracy: 0.8766 - val_loss: 0.3737\n",
      "Epoch 10/20\n",
      "\u001b[1m6769/6769\u001b[0m \u001b[32m━━━━━━━━━━━━━━━━━━━━\u001b[0m\u001b[37m\u001b[0m \u001b[1m8s\u001b[0m 1ms/step - accuracy: 0.8764 - loss: 0.3740 - val_accuracy: 0.8766 - val_loss: 0.3737\n",
      "Epoch 11/20\n",
      "\u001b[1m6769/6769\u001b[0m \u001b[32m━━━━━━━━━━━━━━━━━━━━\u001b[0m\u001b[37m\u001b[0m \u001b[1m8s\u001b[0m 1ms/step - accuracy: 0.8763 - loss: 0.3742 - val_accuracy: 0.8766 - val_loss: 0.3736\n",
      "Epoch 12/20\n",
      "\u001b[1m6769/6769\u001b[0m \u001b[32m━━━━━━━━━━━━━━━━━━━━\u001b[0m\u001b[37m\u001b[0m \u001b[1m8s\u001b[0m 1ms/step - accuracy: 0.8761 - loss: 0.3746 - val_accuracy: 0.8766 - val_loss: 0.3737\n",
      "Epoch 13/20\n",
      "\u001b[1m6769/6769\u001b[0m \u001b[32m━━━━━━━━━━━━━━━━━━━━\u001b[0m\u001b[37m\u001b[0m \u001b[1m8s\u001b[0m 1ms/step - accuracy: 0.8764 - loss: 0.3741 - val_accuracy: 0.8766 - val_loss: 0.3736\n",
      "Epoch 14/20\n",
      "\u001b[1m6769/6769\u001b[0m \u001b[32m━━━━━━━━━━━━━━━━━━━━\u001b[0m\u001b[37m\u001b[0m \u001b[1m8s\u001b[0m 1ms/step - accuracy: 0.8765 - loss: 0.3738 - val_accuracy: 0.8766 - val_loss: 0.3736\n",
      "Epoch 15/20\n",
      "\u001b[1m6769/6769\u001b[0m \u001b[32m━━━━━━━━━━━━━━━━━━━━\u001b[0m\u001b[37m\u001b[0m \u001b[1m8s\u001b[0m 1ms/step - accuracy: 0.8766 - loss: 0.3737 - val_accuracy: 0.8766 - val_loss: 0.3736\n",
      "Epoch 16/20\n",
      "\u001b[1m6769/6769\u001b[0m \u001b[32m━━━━━━━━━━━━━━━━━━━━\u001b[0m\u001b[37m\u001b[0m \u001b[1m8s\u001b[0m 1ms/step - accuracy: 0.8764 - loss: 0.3740 - val_accuracy: 0.8766 - val_loss: 0.3736\n",
      "Epoch 17/20\n",
      "\u001b[1m6769/6769\u001b[0m \u001b[32m━━━━━━━━━━━━━━━━━━━━\u001b[0m\u001b[37m\u001b[0m \u001b[1m8s\u001b[0m 1ms/step - accuracy: 0.8761 - loss: 0.3746 - val_accuracy: 0.8766 - val_loss: 0.3736\n",
      "Epoch 18/20\n",
      "\u001b[1m6769/6769\u001b[0m \u001b[32m━━━━━━━━━━━━━━━━━━━━\u001b[0m\u001b[37m\u001b[0m \u001b[1m8s\u001b[0m 1ms/step - accuracy: 0.8764 - loss: 0.3741 - val_accuracy: 0.8766 - val_loss: 0.3736\n",
      "Epoch 19/20\n",
      "\u001b[1m6769/6769\u001b[0m \u001b[32m━━━━━━━━━━━━━━━━━━━━\u001b[0m\u001b[37m\u001b[0m \u001b[1m8s\u001b[0m 1ms/step - accuracy: 0.8766 - loss: 0.3736 - val_accuracy: 0.8766 - val_loss: 0.3736\n",
      "Epoch 20/20\n",
      "\u001b[1m6769/6769\u001b[0m \u001b[32m━━━━━━━━━━━━━━━━━━━━\u001b[0m\u001b[37m\u001b[0m \u001b[1m8s\u001b[0m 1ms/step - accuracy: 0.8768 - loss: 0.3733 - val_accuracy: 0.8766 - val_loss: 0.3737\n"
     ]
    },
    {
     "data": {
      "text/plain": [
       "<keras.src.callbacks.history.History at 0x1c4bf2c0d30>"
      ]
     },
     "execution_count": 43,
     "metadata": {},
     "output_type": "execute_result"
    }
   ],
   "source": [
    "model.fit(X_train, y_train, epochs = 20, batch_size = 500, validation_data=(X_test, y_test))"
   ]
  },
  {
   "cell_type": "markdown",
   "metadata": {},
   "source": [
    "## Presición del modelo"
   ]
  },
  {
   "cell_type": "code",
   "execution_count": 44,
   "metadata": {},
   "outputs": [
    {
     "name": "stdout",
     "output_type": "stream",
     "text": [
      "\u001b[1m26441/26441\u001b[0m \u001b[32m━━━━━━━━━━━━━━━━━━━━\u001b[0m\u001b[37m\u001b[0m \u001b[1m20s\u001b[0m 737us/step - accuracy: 0.8768 - loss: 0.3734\n",
      "87.65990734100342\n"
     ]
    }
   ],
   "source": [
    "loss, acc = model.evaluate(X_test, y_test)\n",
    "print(acc*100)"
   ]
  },
  {
   "cell_type": "markdown",
   "metadata": {},
   "source": [
    "## Realizar predicciones"
   ]
  },
  {
   "cell_type": "code",
   "execution_count": 50,
   "metadata": {},
   "outputs": [
    {
     "name": "stdout",
     "output_type": "stream",
     "text": [
      "\u001b[1m1/1\u001b[0m \u001b[32m━━━━━━━━━━━━━━━━━━━━\u001b[0m\u001b[37m\u001b[0m \u001b[1m0s\u001b[0m 22ms/step\n",
      "[[0.8750998]]\n",
      "\u001b[1m1/1\u001b[0m \u001b[32m━━━━━━━━━━━━━━━━━━━━\u001b[0m\u001b[37m\u001b[0m \u001b[1m0s\u001b[0m 22ms/step\n",
      "[[0.8750998]]\n"
     ]
    }
   ],
   "source": [
    "estudiante = np.array([[1, 108, 1, 1, 2, 3, 3, 1, 1, 1, 1, 1]])\n",
    "p = model.predict(estudiante)\n",
    "print(p)\n",
    "\n",
    "estudiante2 = np.array([[16, 1601, 1, 2, 2, 3, 3, 1, 1, 1, 1, 2]])\n",
    "p = model.predict(estudiante2)\n",
    "print(p)"
   ]
  },
  {
   "cell_type": "markdown",
   "metadata": {},
   "source": [
    "### Al probar varias combinaciones parece ser que el porcentaje lanzado es el mismo para cualquier caso, por lo que se asume que en general no hay forma de saber si sigue vigente o aprobó con estos datos, solo se asume que hay mayor probabilidad que así sea."
   ]
  }
 ],
 "metadata": {
  "kernelspec": {
   "display_name": "Python 3",
   "language": "python",
   "name": "python3"
  },
  "language_info": {
   "codemirror_mode": {
    "name": "ipython",
    "version": 3
   },
   "file_extension": ".py",
   "mimetype": "text/x-python",
   "name": "python",
   "nbconvert_exporter": "python",
   "pygments_lexer": "ipython3",
   "version": "3.10.14"
  }
 },
 "nbformat": 4,
 "nbformat_minor": 2
}
